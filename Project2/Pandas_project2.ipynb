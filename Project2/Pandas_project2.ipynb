{
  "cells": [
    {
      "cell_type": "code",
      "execution_count": null,
      "metadata": {
        "colab": {
          "base_uri": "https://localhost:8080/"
        },
        "id": "ogzSYszUZIa_",
        "outputId": "2e04ca47-feb2-4e58-84c4-5044737e2c5c"
      },
      "outputs": [
        {
          "name": "stdout",
          "output_type": "stream",
          "text": [
            "Drive already mounted at /content/drive; to attempt to forcibly remount, call drive.mount(\"/content/drive\", force_remount=True).\n"
          ]
        }
      ],
      "source": [
        "from google.colab import drive\n",
        "drive.mount('/content/drive')"
      ]
    },
    {
      "cell_type": "code",
      "execution_count": null,
      "metadata": {
        "colab": {
          "base_uri": "https://localhost:8080/"
        },
        "id": "0kS6wNc1ZWZ6",
        "outputId": "80008b1e-d246-4961-dd43-b93481ab3c77"
      },
      "outputs": [
        {
          "name": "stderr",
          "output_type": "stream",
          "text": [
            "<ipython-input-29-a6123a73f12c>:4: FutureWarning: The error_bad_lines argument has been deprecated and will be removed in a future version. Use on_bad_lines in the future.\n",
            "\n",
            "\n",
            "  df = pd.read_csv('/content/movies_metadata.csv', engine=\"python\",error_bad_lines=False)\n",
            "Skipping line 33821: unexpected end of data\n"
          ]
        }
      ],
      "source": [
        "import pandas as pd\n",
        "import ast \n",
        "import numpy as np\n",
        "df = pd.read_csv('/content/movies_metadata.csv', engine=\"python\",error_bad_lines=False)"
      ]
    },
    {
      "attachments": {},
      "cell_type": "markdown",
      "metadata": {
        "id": "J2RHW4BLhj35"
      },
      "source": [
        "2. __Drop__ the irrelevant columns 'adult', 'imdb_id', 'original_title', 'video' and 'homepage'."
      ]
    },
    {
      "cell_type": "code",
      "execution_count": null,
      "metadata": {
        "id": "O3Ub5XcEaKxc"
      },
      "outputs": [],
      "source": [
        "df.drop(['adult','imdb_id',  'original_title', 'video', 'homepage'], axis = 1 , inplace=True)"
      ]
    },
    {
      "attachments": {},
      "cell_type": "markdown",
      "metadata": {
        "id": "kdUrZ5zE2l3g"
      },
      "source": [
        "# How to handle stringified JSON columns"
      ]
    },
    {
      "attachments": {},
      "cell_type": "markdown",
      "metadata": {
        "id": "PrZB5rAziXfs"
      },
      "source": [
        "3. __Evaluate__ Python Expressions in the stringified columns [\"belongs_to_collection\", \"genres\", \"production_countries\", \"production_companies\", \"spoken_languages\"] and __remove quotes__ (\"\") where possible."
      ]
    },
    {
      "cell_type": "code",
      "execution_count": null,
      "metadata": {
        "id": "V--QfaE_dI3H"
      },
      "outputs": [],
      "source": [
        "df.genres = df.genres.apply(ast.literal_eval) #Ouput is same as above \n",
        "\n",
        "df.production_companies.apply = df.production_companies.apply(lambda x: ast.literal_eval(x) if isinstance(x, str) else np.nan)\n",
        "df.belongs_to_collection =df.belongs_to_collection.apply(lambda x: ast.literal_eval(x) if isinstance(x, str) else np.nan)\n",
        "df.spoken_languages = df.spoken_languages.apply(lambda x: ast.literal_eval(x) if isinstance(x, str) else np.nan)\n",
        "df.production_countries  = df.production_countries.apply(lambda x: ast.literal_eval(x) if isinstance(x, str) else np.nan)"
      ]
    },
    {
      "cell_type": "code",
      "execution_count": null,
      "metadata": {
        "colab": {
          "base_uri": "https://localhost:8080/"
        },
        "id": "GdVyLcUfdSU8",
        "outputId": "3e4ccadf-0b26-4f8a-fe64-c1068784324e"
      },
      "outputs": [
        {
          "name": "stdout",
          "output_type": "stream",
          "text": [
            "<class 'pandas.core.frame.DataFrame'>\n",
            "RangeIndex: 33819 entries, 0 to 33818\n",
            "Data columns (total 19 columns):\n",
            " #   Column                 Non-Null Count  Dtype  \n",
            "---  ------                 --------------  -----  \n",
            " 0   belongs_to_collection  3673 non-null   object \n",
            " 1   budget                 33819 non-null  object \n",
            " 2   genres                 33819 non-null  object \n",
            " 3   id                     33819 non-null  object \n",
            " 4   original_language      33815 non-null  object \n",
            " 5   overview               33332 non-null  object \n",
            " 6   popularity             33815 non-null  float64\n",
            " 7   poster_path            33623 non-null  object \n",
            " 8   production_companies   33817 non-null  object \n",
            " 9   production_countries   33817 non-null  object \n",
            " 10  release_date           33780 non-null  object \n",
            " 11  revenue                33815 non-null  float64\n",
            " 12  runtime                33707 non-null  float64\n",
            " 13  spoken_languages       33815 non-null  object \n",
            " 14  status                 33762 non-null  object \n",
            " 15  tagline                17201 non-null  object \n",
            " 16  title                  33815 non-null  object \n",
            " 17  vote_average           33815 non-null  float64\n",
            " 18  vote_count             33815 non-null  float64\n",
            "dtypes: float64(5), object(14)\n",
            "memory usage: 4.9+ MB\n"
          ]
        }
      ],
      "source": [
        "df.info()"
      ]
    },
    {
      "attachments": {},
      "cell_type": "markdown",
      "metadata": {
        "id": "xqjGy5wDikla"
      },
      "source": [
        "4. __Extract__ only the __collection name__ from the column \"belongs_to_collection\" and __overwrite__ \"belongs_to_collection\". <br> For example: The value in the first row (Toy Story) should be 'Toy Story Collection'.\n",
        "\n",
        "5. __Extract__ all __genre names__ from the column \"genres\" and __overwrite__ \"genres\". If a movie has more than one genre, __seperate genres by a pipe__ \"|\".<br>\n",
        "For example: The value in the first row (Toy Story) should be 'Animation|Comedy|Family'.\n",
        "\n",
        "6. __Extract__ all __spoken language names__ from the column \"spoken_languages\" and __overwrite__ \"spoken_languages\". If a movie has more than one spoken language, __seperate spoken languages by a pipe__ \"|\".<br>\n",
        "For example: The value in the first row (Toy Story) should be 'English'.\n",
        "\n",
        "7. __Extract__ all __production countries names__ from the column \"production_countries\" and __overwrite__ \"production_countries\". If a movie has more than one production country, __seperate production countries by a pipe__ \"|\".<br>\n",
        "For example: The value in the first row (Toy Story) should be 'United States of America'.\n",
        "\n",
        "8. __Extract__ all __production companies names__ from the column \"production_companies\" and __overwrite__ \"production_companies\". If a movie has more than one production company, __seperate production companies by a pipe__ \"|\".<br>\n",
        "For example: The value in the first row (Toy Story) should be 'Pixar Animation Studios'\n",
        "\n",
        "9. __Inspect__ all columns above with value_counts(). Do you see anything strange? __Take reasonable measures__!"
      ]
    },
    {
      "cell_type": "code",
      "execution_count": null,
      "metadata": {
        "colab": {
          "base_uri": "https://localhost:8080/"
        },
        "id": "bofytX2HdiWe",
        "outputId": "80d4208f-f2f2-4f9d-8fb3-0a36b65e4f9c"
      },
      "outputs": [
        {
          "data": {
            "text/plain": [
              "{'id': 10194,\n",
              " 'name': 'Toy Story Collection',\n",
              " 'poster_path': '/7G9915LfUQ2lVfwMEEhDsn3kT4B.jpg',\n",
              " 'backdrop_path': '/9FBwqcd9IRruEDUrTdcaafOMKUq.jpg'}"
            ]
          },
          "execution_count": 39,
          "metadata": {},
          "output_type": "execute_result"
        }
      ],
      "source": [
        "df.belongs_to_collection[0]"
      ]
    },
    {
      "cell_type": "code",
      "execution_count": null,
      "metadata": {
        "colab": {
          "base_uri": "https://localhost:8080/"
        },
        "id": "fbNrqHqWeXwg",
        "outputId": "43fc6d9e-ce60-4f5e-c1bc-cff03a533167"
      },
      "outputs": [
        {
          "name": "stdout",
          "output_type": "stream",
          "text": [
            "0                  Toy Story Collection\n",
            "1                                   NaN\n",
            "2             Grumpy Old Men Collection\n",
            "3                                   NaN\n",
            "4        Father of the Bride Collection\n",
            "                      ...              \n",
            "33814                               NaN\n",
            "33815                               NaN\n",
            "33816                               NaN\n",
            "33817                               NaN\n",
            "33818              Overheard Collection\n",
            "Name: belongs_to_collection, Length: 33819, dtype: object\n"
          ]
        }
      ],
      "source": [
        "df.belongs_to_collection = df.belongs_to_collection.apply(lambda x: x['name'] if isinstance(x, dict) else np.nan)    #collection name"
      ]
    },
    {
      "cell_type": "code",
      "execution_count": null,
      "metadata": {
        "colab": {
          "base_uri": "https://localhost:8080/"
        },
        "id": "8voADQZfecY-",
        "outputId": "2575da99-d300-43e3-e8a0-5ab08415a505"
      },
      "outputs": [
        {
          "data": {
            "text/plain": [
              "NaN                                       30148\n",
              "James Bond Collection                        26\n",
              "Zatôichi: The Blind Swordsman                26\n",
              "Charlie Chan (Sidney Toler) Collection       21\n",
              "Pokémon Collection                           19\n",
              "Godzilla (Showa) Collection                  16\n",
              "Charlie Chan (Warner Oland) Collection       15\n",
              "Dragon Ball Z (Movie) Collection             15\n",
              "Totò Collection                              14\n",
              "The Land Before Time Collection              13\n",
              "The Carry On Collection                      13\n",
              "Friday the 13th Collection                   12\n",
              "Sherlock Holmes (1939 series)                11\n",
              "Hellraiser Collection                        10\n",
              "Il Maresciallo Giraldi Collection            10\n",
              "Puppet Master Collection                     10\n",
              "Tom and Jerry Collection                     10\n",
              "The Pink Panther (Original) Collection        9\n",
              "Children of the Corn Collection               9\n",
              "The Amityville Horror Collection              9\n",
              "Name: belongs_to_collection, dtype: int64"
            ]
          },
          "execution_count": 41,
          "metadata": {},
          "output_type": "execute_result"
        }
      ],
      "source": [
        "df.belongs_to_collection.value_counts(dropna = False).head(20)"
      ]
    },
    {
      "cell_type": "code",
      "execution_count": null,
      "metadata": {
        "id": "Dn5x2qobeugr"
      },
      "outputs": [],
      "source": [
        "df.genres = df.genres.apply(lambda x: '|'.join(i['name'] for i in x))"
      ]
    },
    {
      "cell_type": "code",
      "execution_count": null,
      "metadata": {
        "colab": {
          "base_uri": "https://localhost:8080/"
        },
        "id": "qZejrGjke_Cy",
        "outputId": "cf6b5fea-0f9c-40f0-f1ab-a2589a9e84d3"
      },
      "outputs": [
        {
          "data": {
            "text/plain": [
              "Drama                   3687\n",
              "Comedy                  2460\n",
              "Documentary             1782\n",
              "                        1340\n",
              "Drama|Romance           1097\n",
              "Comedy|Drama             907\n",
              "Comedy|Romance           755\n",
              "Horror                   707\n",
              "Comedy|Drama|Romance     522\n",
              "Horror|Thriller          437\n",
              "Drama|Thriller           399\n",
              "Drama|Comedy             398\n",
              "Crime|Drama              366\n",
              "Thriller                 308\n",
              "Western                  252\n",
              "Romance|Drama            247\n",
              "Action|Thriller          246\n",
              "Drama|Foreign            217\n",
              "Drama|History            215\n",
              "Action|Comedy            203\n",
              "Name: genres, dtype: int64"
            ]
          },
          "execution_count": 43,
          "metadata": {},
          "output_type": "execute_result"
        }
      ],
      "source": [
        "df.genres.value_counts(dropna = False).head(20)"
      ]
    },
    {
      "cell_type": "code",
      "execution_count": null,
      "metadata": {
        "id": "hMcsCbElfBDr"
      },
      "outputs": [],
      "source": [
        "df.spoken_languages = df.spoken_languages.apply(lambda x: '|'.join(i['name'] for i in x) if isinstance(x, list) else np.nan)"
      ]
    },
    {
      "cell_type": "code",
      "execution_count": null,
      "metadata": {
        "colab": {
          "base_uri": "https://localhost:8080/"
        },
        "id": "1v-SFeEXfXfN",
        "outputId": "0878d12a-6dcf-426c-f88b-dd0d0baf7edd"
      },
      "outputs": [
        {
          "data": {
            "text/plain": [
              "English             17887\n",
              "                     2406\n",
              "Français             1339\n",
              "Italiano              897\n",
              "日本語                   889\n",
              "English|Français      584\n",
              "Español               563\n",
              "English|Español       523\n",
              "Deutsch               512\n",
              "English|Deutsch       397\n",
              "English|Italiano      290\n",
              "Pусский               276\n",
              "한국어/조선말               270\n",
              "普通话                   224\n",
              "svenska               220\n",
              "हिन्दी                208\n",
              "suomi                 203\n",
              "Español|English       161\n",
              "No Language           158\n",
              "English|Pусский       143\n",
              "Name: spoken_languages, dtype: int64"
            ]
          },
          "execution_count": 46,
          "metadata": {},
          "output_type": "execute_result"
        }
      ],
      "source": [
        "df.spoken_languages.value_counts(dropna = False).head(20)"
      ]
    },
    {
      "cell_type": "code",
      "execution_count": null,
      "metadata": {
        "id": "ro4EgVpmfkxF"
      },
      "outputs": [],
      "source": [
        "df.spoken_languages.replace(\"\", np.nan, inplace = True)"
      ]
    },
    {
      "cell_type": "code",
      "execution_count": null,
      "metadata": {
        "id": "CU_W_hr2fotl"
      },
      "outputs": [],
      "source": [
        "df.production_countries = df. production_countries.apply(lambda x: '|'.join(i['name'] for i in x) if isinstance(x, list) else np.nan)"
      ]
    },
    {
      "cell_type": "code",
      "execution_count": null,
      "metadata": {
        "colab": {
          "base_uri": "https://localhost:8080/"
        },
        "id": "p5MYhKLAgRMN",
        "outputId": "d2b41cbe-23e0-436f-cadd-bd27dfa881a9"
      },
      "outputs": [
        {
          "data": {
            "text/plain": [
              "United States of America                   14800\n",
              "                                            3927\n",
              "United Kingdom                              1723\n",
              "France                                      1199\n",
              "Japan                                        954\n",
              "Italy                                        761\n",
              "Canada                                       589\n",
              "Germany                                      530\n",
              "United Kingdom|United States of America      517\n",
              "India                                        327\n",
              "Canada|United States of America              302\n",
              "South Korea                                  279\n",
              "Hong Kong                                    272\n",
              "Spain                                        262\n",
              "Australia                                    256\n",
              "Russia                                       256\n",
              "Sweden                                       249\n",
              "Germany|United States of America             201\n",
              "Finland                                      194\n",
              "France|Italy                                 183\n",
              "Name: production_countries, dtype: int64"
            ]
          },
          "execution_count": 51,
          "metadata": {},
          "output_type": "execute_result"
        }
      ],
      "source": [
        "df.production_countries.value_counts(dropna=False).head(20)"
      ]
    },
    {
      "cell_type": "code",
      "execution_count": null,
      "metadata": {
        "id": "bfJbL1-Xg5PI"
      },
      "outputs": [],
      "source": [
        "df.production_countries.replace(\"\", np.nan, inplace=True)"
      ]
    },
    {
      "cell_type": "code",
      "execution_count": null,
      "metadata": {
        "id": "A1cIHeJwhBR_"
      },
      "outputs": [],
      "source": [
        "\n",
        "\n",
        "df.production_companies = df.production_companies.apply(lambda x: \"|\".join(i['name'] for i in x) if isinstance(x, list) else np.nan) "
      ]
    },
    {
      "cell_type": "code",
      "execution_count": null,
      "metadata": {
        "colab": {
          "base_uri": "https://localhost:8080/"
        },
        "id": "dQUd0W9XhG8b",
        "outputId": "069953df-0ca6-4636-c20b-2f0a7bfab683"
      },
      "outputs": [
        {
          "data": {
            "text/plain": [
              "NaN    33819\n",
              "Name: production_companies, dtype: int64"
            ]
          },
          "execution_count": 54,
          "metadata": {},
          "output_type": "execute_result"
        }
      ],
      "source": [
        "df.production_companies.value_counts(dropna = False).head(20)"
      ]
    },
    {
      "cell_type": "code",
      "execution_count": null,
      "metadata": {
        "colab": {
          "base_uri": "https://localhost:8080/"
        },
        "id": "J6l9q3zHhJCP",
        "outputId": "d8b2b8c6-6f2c-4187-e1f7-36261a840497"
      },
      "outputs": [
        {
          "data": {
            "text/plain": [
              "belongs_to_collection    30148\n",
              "budget                       0\n",
              "genres                       0\n",
              "id                           0\n",
              "original_language            4\n",
              "overview                   487\n",
              "popularity                   4\n",
              "poster_path                196\n",
              "production_companies     33819\n",
              "production_countries      3931\n",
              "release_date                39\n",
              "revenue                      4\n",
              "runtime                    112\n",
              "spoken_languages          2410\n",
              "status                      57\n",
              "tagline                  16618\n",
              "title                        4\n",
              "vote_average                 4\n",
              "vote_count                   4\n",
              "dtype: int64"
            ]
          },
          "execution_count": 55,
          "metadata": {},
          "output_type": "execute_result"
        }
      ],
      "source": [
        "df.isna().sum()"
      ]
    },
    {
      "attachments": {},
      "cell_type": "markdown",
      "metadata": {
        "id": "rndt2d-Hi0ab"
      },
      "source": [
        "## Cleaning Numerical Columns"
      ]
    },
    {
      "attachments": {},
      "cell_type": "markdown",
      "metadata": {
        "id": "6vDGIctNi2vl"
      },
      "source": [
        "10. __Convert__ the datatype in the columns __\"budget\"__, __\"id\"__ and __\"popularity\"__ __to numeric__. Set invalid values as NaN."
      ]
    },
    {
      "cell_type": "code",
      "execution_count": null,
      "metadata": {
        "colab": {
          "base_uri": "https://localhost:8080/"
        },
        "id": "1RXFKDdKhLhf",
        "outputId": "afb9ff02-a28d-465f-fc5a-08f20de04d43"
      },
      "outputs": [
        {
          "name": "stdout",
          "output_type": "stream",
          "text": [
            "<class 'pandas.core.frame.DataFrame'>\n",
            "RangeIndex: 33819 entries, 0 to 33818\n",
            "Data columns (total 19 columns):\n",
            " #   Column                 Non-Null Count  Dtype  \n",
            "---  ------                 --------------  -----  \n",
            " 0   belongs_to_collection  3671 non-null   object \n",
            " 1   budget                 33819 non-null  object \n",
            " 2   genres                 33819 non-null  object \n",
            " 3   id                     33819 non-null  object \n",
            " 4   original_language      33815 non-null  object \n",
            " 5   overview               33332 non-null  object \n",
            " 6   popularity             33815 non-null  float64\n",
            " 7   poster_path            33623 non-null  object \n",
            " 8   production_companies   0 non-null      float64\n",
            " 9   production_countries   29888 non-null  object \n",
            " 10  release_date           33780 non-null  object \n",
            " 11  revenue                33815 non-null  float64\n",
            " 12  runtime                33707 non-null  float64\n",
            " 13  spoken_languages       31409 non-null  object \n",
            " 14  status                 33762 non-null  object \n",
            " 15  tagline                17201 non-null  object \n",
            " 16  title                  33815 non-null  object \n",
            " 17  vote_average           33815 non-null  float64\n",
            " 18  vote_count             33815 non-null  float64\n",
            "dtypes: float64(6), object(13)\n",
            "memory usage: 4.9+ MB\n"
          ]
        }
      ],
      "source": [
        "df.info()\n"
      ]
    },
    {
      "cell_type": "code",
      "execution_count": null,
      "metadata": {
        "colab": {
          "base_uri": "https://localhost:8080/"
        },
        "id": "0u4FohE9jXiF",
        "outputId": "953cfa6f-8502-476b-8ff8-6b4433c801f5"
      },
      "outputs": [
        {
          "data": {
            "text/plain": [
              "0        30000000.0\n",
              "1        65000000.0\n",
              "2               NaN\n",
              "3        16000000.0\n",
              "4               NaN\n",
              "            ...    \n",
              "33814           NaN\n",
              "33815           NaN\n",
              "33816           NaN\n",
              "33817           NaN\n",
              "33818     8000000.0\n",
              "Name: budget, Length: 33819, dtype: float64"
            ]
          },
          "execution_count": 66,
          "metadata": {},
          "output_type": "execute_result"
        }
      ],
      "source": [
        "df.budget = pd.to_numeric(df.budget, errors='coerce')\n",
        "df.budget.value_counts(dropna=False)\n",
        "df.budget.replace(0,np.nan)"
      ]
    },
    {
      "cell_type": "code",
      "execution_count": null,
      "metadata": {
        "colab": {
          "base_uri": "https://localhost:8080/"
        },
        "id": "eujXLIUIjudO",
        "outputId": "6cc19ab3-c75d-4e70-ebd1-f15bbb96a251"
      },
      "outputs": [
        {
          "name": "stdout",
          "output_type": "stream",
          "text": [
            "<class 'pandas.core.frame.DataFrame'>\n",
            "RangeIndex: 33819 entries, 0 to 33818\n",
            "Data columns (total 19 columns):\n",
            " #   Column                 Non-Null Count  Dtype  \n",
            "---  ------                 --------------  -----  \n",
            " 0   belongs_to_collection  3671 non-null   object \n",
            " 1   budget                 33817 non-null  float64\n",
            " 2   genres                 33819 non-null  object \n",
            " 3   id                     33819 non-null  object \n",
            " 4   original_language      33815 non-null  object \n",
            " 5   overview               33332 non-null  object \n",
            " 6   popularity             33815 non-null  float64\n",
            " 7   poster_path            33623 non-null  object \n",
            " 8   production_companies   0 non-null      float64\n",
            " 9   production_countries   29888 non-null  object \n",
            " 10  release_date           33780 non-null  object \n",
            " 11  revenue                33815 non-null  float64\n",
            " 12  runtime                33707 non-null  float64\n",
            " 13  spoken_languages       31409 non-null  object \n",
            " 14  status                 33762 non-null  object \n",
            " 15  tagline                17201 non-null  object \n",
            " 16  title                  33815 non-null  object \n",
            " 17  vote_average           33815 non-null  float64\n",
            " 18  vote_count             33815 non-null  float64\n",
            "dtypes: float64(7), object(12)\n",
            "memory usage: 4.9+ MB\n"
          ]
        }
      ],
      "source": [
        "\n",
        "df.info()"
      ]
    },
    {
      "cell_type": "code",
      "execution_count": null,
      "metadata": {
        "id": "jN1QMjU3kf8N"
      },
      "outputs": [],
      "source": [
        "df.id = pd.to_numeric(df.id, errors='coerce')"
      ]
    },
    {
      "cell_type": "code",
      "execution_count": null,
      "metadata": {
        "colab": {
          "base_uri": "https://localhost:8080/"
        },
        "id": "dlLgyXsTlBOD",
        "outputId": "a27f6412-7531-405a-bf32-1d5278459f87"
      },
      "outputs": [
        {
          "data": {
            "text/plain": [
              "141971.0    3\n",
              "18440.0     2\n",
              "109962.0    2\n",
              "77221.0     2\n",
              "5511.0      2\n",
              "           ..\n",
              "125759.0    1\n",
              "15242.0     1\n",
              "15374.0     1\n",
              "43837.0     1\n",
              "74639.0     1\n",
              "Name: id, Length: 33796, dtype: int64"
            ]
          },
          "execution_count": 72,
          "metadata": {},
          "output_type": "execute_result"
        }
      ],
      "source": [
        "df.id.value_counts(dropna=False)"
      ]
    },
    {
      "cell_type": "code",
      "execution_count": null,
      "metadata": {
        "colab": {
          "base_uri": "https://localhost:8080/"
        },
        "id": "d-_2yH3PlEaR",
        "outputId": "888e6b19-0d6e-4183-8549-0b23c7f15cc9"
      },
      "outputs": [
        {
          "data": {
            "text/plain": [
              "0.000000    32\n",
              "0.000844    27\n",
              "0.000001    27\n",
              "0.000578    26\n",
              "0.000308    25\n",
              "            ..\n",
              "0.782194     1\n",
              "1.345865     1\n",
              "0.881335     1\n",
              "2.534678     1\n",
              "1.172189     1\n",
              "Name: popularity, Length: 32984, dtype: int64"
            ]
          },
          "execution_count": 74,
          "metadata": {},
          "output_type": "execute_result"
        }
      ],
      "source": [
        "df.popularity = pd.to_numeric(df.popularity, errors ='coerce')\n",
        "df.popularity.value_counts(dropna=False)"
      ]
    },
    {
      "cell_type": "code",
      "execution_count": null,
      "metadata": {
        "colab": {
          "base_uri": "https://localhost:8080/"
        },
        "id": "NNurvPtnlkGp",
        "outputId": "df51aaef-4eb5-4400-bbf6-7e4c3ecb09b5"
      },
      "outputs": [
        {
          "name": "stdout",
          "output_type": "stream",
          "text": [
            "<class 'pandas.core.frame.DataFrame'>\n",
            "RangeIndex: 33819 entries, 0 to 33818\n",
            "Data columns (total 19 columns):\n",
            " #   Column                 Non-Null Count  Dtype  \n",
            "---  ------                 --------------  -----  \n",
            " 0   belongs_to_collection  3671 non-null   object \n",
            " 1   budget                 33817 non-null  float64\n",
            " 2   genres                 33819 non-null  object \n",
            " 3   id                     33817 non-null  float64\n",
            " 4   original_language      33815 non-null  object \n",
            " 5   overview               33332 non-null  object \n",
            " 6   popularity             33815 non-null  float64\n",
            " 7   poster_path            33623 non-null  object \n",
            " 8   production_companies   0 non-null      float64\n",
            " 9   production_countries   29888 non-null  object \n",
            " 10  release_date           33780 non-null  object \n",
            " 11  revenue                33815 non-null  float64\n",
            " 12  runtime                33707 non-null  float64\n",
            " 13  spoken_languages       31409 non-null  object \n",
            " 14  status                 33762 non-null  object \n",
            " 15  tagline                17201 non-null  object \n",
            " 16  title                  33815 non-null  object \n",
            " 17  vote_average           33815 non-null  float64\n",
            " 18  vote_count             33815 non-null  float64\n",
            "dtypes: float64(8), object(11)\n",
            "memory usage: 4.9+ MB\n"
          ]
        }
      ],
      "source": [
        "df.info()"
      ]
    },
    {
      "attachments": {},
      "cell_type": "markdown",
      "metadata": {
        "id": "JgfFaQXRmSXv"
      },
      "source": [
        "11. __Analyze__ the columns __\"budget\"__ and __\"revenue\"__ and __\"runtime\"__. Analyze movies with a budget/revenue/runtime of 0. Do you think the value 0 is the most appropriate value? __Take reasonable measures__! "
      ]
    },
    {
      "cell_type": "code",
      "execution_count": null,
      "metadata": {
        "colab": {
          "base_uri": "https://localhost:8080/"
        },
        "id": "EZ_I8DIOloou",
        "outputId": "53b45f5a-0fed-4f47-c9f5-d52de0b6bcee"
      },
      "outputs": [
        {
          "data": {
            "text/plain": [
              "NaN          26140\n",
              "5.000000       236\n",
              "10.000000      225\n",
              "20.000000      220\n",
              "15.000000      211\n",
              "             ...  \n",
              "0.000115         1\n",
              "1.377800         1\n",
              "0.747000         1\n",
              "2.175000         1\n",
              "0.515788         1\n",
              "Name: budget, Length: 1038, dtype: int64"
            ]
          },
          "execution_count": 82,
          "metadata": {},
          "output_type": "execute_result"
        }
      ],
      "source": [
        "df.budget = df.budget.replace(0, np.nan)\n",
        "df.budget.value_counts(dropna=False)"
      ]
    },
    {
      "cell_type": "code",
      "execution_count": null,
      "metadata": {
        "colab": {
          "base_uri": "https://localhost:8080/"
        },
        "id": "YLDHvFJkmV3p",
        "outputId": "07b51019-2817-47fa-96cf-c2b0abb679ad"
      },
      "outputs": [
        {
          "data": {
            "text/plain": [
              "NaN            27123\n",
              "12000000.0        19\n",
              "10000000.0        16\n",
              "11000000.0        15\n",
              "6000000.0         15\n",
              "               ...  \n",
              "1494399.0          1\n",
              "2506446.0          1\n",
              "123729176.0        1\n",
              "25482931.0         1\n",
              "11095236.0         1\n",
              "Name: revenue, Length: 6259, dtype: int64"
            ]
          },
          "execution_count": 83,
          "metadata": {},
          "output_type": "execute_result"
        }
      ],
      "source": [
        "df.revenue = df.revenue.replace(0, np.nan)\n",
        "df.revenue.value_counts(dropna=False)"
      ]
    },
    {
      "cell_type": "code",
      "execution_count": null,
      "metadata": {
        "colab": {
          "base_uri": "https://localhost:8080/"
        },
        "id": "lfAAe-Lmmag5",
        "outputId": "1dee1f31-6ed5-4d7f-ad9b-466ede911e9f"
      },
      "outputs": [
        {
          "data": {
            "text/plain": [
              "90.0     1801\n",
              "100.0    1131\n",
              "95.0     1086\n",
              "93.0      951\n",
              "96.0      882\n",
              "         ... \n",
              "234.0       1\n",
              "345.0       1\n",
              "230.0       1\n",
              "292.0       1\n",
              "452.0       1\n",
              "Name: runtime, Length: 317, dtype: int64"
            ]
          },
          "execution_count": 79,
          "metadata": {},
          "output_type": "execute_result"
        }
      ],
      "source": [
        "df.runtime.value_counts()"
      ]
    },
    {
      "attachments": {},
      "cell_type": "markdown",
      "metadata": {
        "id": "v24EW9gqnHEj"
      },
      "source": [
        "12. The columns \"budget\" and \"revenue\" shall show values in Million USD. __Convert and Overwrite__!"
      ]
    },
    {
      "cell_type": "code",
      "execution_count": null,
      "metadata": {
        "id": "tJiErplMmdbt"
      },
      "outputs": [],
      "source": [
        "df.budget = df.budget.div(1000000)"
      ]
    },
    {
      "cell_type": "code",
      "execution_count": null,
      "metadata": {
        "id": "m0UsGOtKnRVK"
      },
      "outputs": [],
      "source": [
        "df.revenue = df.revenue.div(1000000)"
      ]
    },
    {
      "attachments": {},
      "cell_type": "markdown",
      "metadata": {
        "id": "sYS2vypnn3sO"
      },
      "source": [
        "13. __Analyze__ movies with a __vote_count of 0__. What´s the __vote_average__ for those movies? Do you think this value is the most appropriate value? __Take reasonable measures__!"
      ]
    },
    {
      "cell_type": "code",
      "execution_count": null,
      "metadata": {
        "colab": {
          "base_uri": "https://localhost:8080/"
        },
        "id": "oOqUJfgtn1L5",
        "outputId": "d4dad3fb-3819-4635-8104-51a9aee56748"
      },
      "outputs": [
        {
          "name": "stdout",
          "output_type": "stream",
          "text": [
            "83       0.0\n",
            "107      0.0\n",
            "126      0.0\n",
            "132      0.0\n",
            "137      0.0\n",
            "        ... \n",
            "33611    0.0\n",
            "33617    0.0\n",
            "33620    0.0\n",
            "33621    0.0\n",
            "33753    0.0\n",
            "Name: vote_average, Length: 1641, dtype: float64\n"
          ]
        }
      ],
      "source": [
        "# df.sort_values(by='vote_count', ascending=True)?\n",
        "df.vote_count.value_counts(dropna=False)\n",
        "print(df.loc[df.vote_count == 0, 'vote_average'])"
      ]
    },
    {
      "cell_type": "code",
      "execution_count": null,
      "metadata": {
        "id": "r7_fuILE3rmm"
      },
      "outputs": [],
      "source": [
        "df.loc[df.vote_count == 0 , 'vote_average'] = np.nan"
      ]
    },
    {
      "attachments": {},
      "cell_type": "markdown",
      "metadata": {
        "id": "3gGqhpF9p5DK"
      },
      "source": [
        "## Cleaning DateTime Columns"
      ]
    },
    {
      "attachments": {},
      "cell_type": "markdown",
      "metadata": {
        "id": "a31XHG_Ip7pl"
      },
      "source": [
        "14. __Convert__ the datatype in the column __\"release_date\"__ __to datetime__. Set invalid values as NaN."
      ]
    },
    {
      "cell_type": "code",
      "execution_count": null,
      "metadata": {
        "colab": {
          "base_uri": "https://localhost:8080/"
        },
        "id": "8H0wSk5gn8lU",
        "outputId": "642a1626-130e-4aca-ae48-5bbb33a46b85"
      },
      "outputs": [
        {
          "name": "stdout",
          "output_type": "stream",
          "text": [
            "<class 'pandas.core.frame.DataFrame'>\n",
            "RangeIndex: 33819 entries, 0 to 33818\n",
            "Data columns (total 19 columns):\n",
            " #   Column                 Non-Null Count  Dtype         \n",
            "---  ------                 --------------  -----         \n",
            " 0   belongs_to_collection  3671 non-null   object        \n",
            " 1   budget                 7679 non-null   float64       \n",
            " 2   genres                 33819 non-null  object        \n",
            " 3   id                     33817 non-null  float64       \n",
            " 4   original_language      33815 non-null  object        \n",
            " 5   overview               33332 non-null  object        \n",
            " 6   popularity             33815 non-null  float64       \n",
            " 7   poster_path            33623 non-null  object        \n",
            " 8   production_companies   0 non-null      float64       \n",
            " 9   production_countries   29888 non-null  object        \n",
            " 10  release_date           33778 non-null  datetime64[ns]\n",
            " 11  revenue                6696 non-null   float64       \n",
            " 12  runtime                33707 non-null  float64       \n",
            " 13  spoken_languages       31409 non-null  object        \n",
            " 14  status                 33762 non-null  object        \n",
            " 15  tagline                17201 non-null  object        \n",
            " 16  title                  33815 non-null  object        \n",
            " 17  vote_average           33815 non-null  float64       \n",
            " 18  vote_count             33815 non-null  float64       \n",
            "dtypes: datetime64[ns](1), float64(8), object(10)\n",
            "memory usage: 4.9+ MB\n"
          ]
        }
      ],
      "source": [
        "df.release_date = pd.to_datetime(df.release_date,errors='coerce')\n",
        "df.info()"
      ]
    },
    {
      "attachments": {},
      "cell_type": "markdown",
      "metadata": {
        "id": "nvT_xuNfqoYB"
      },
      "source": [
        "## Cleaning Text / String Columns\n",
        "\n",
        "15. __Analyze__ the text columns \"overview\" and \"tagline\". Try to identify __missing data that is not represented by NaN__ (e.g. \"No Data\"). __Replace as NaN__ (np.nan)!"
      ]
    },
    {
      "cell_type": "code",
      "execution_count": null,
      "metadata": {
        "id": "f7ej6XRRqHAU"
      },
      "outputs": [],
      "source": [
        "df.overview.value_counts(dropna=False)\n",
        "df.overview = df.overview.replace(' ', np.nan)\n",
        "df.overview.replace(\"No overview found.\", np.nan, inplace = True)\n",
        "df.overview.replace(\"No Overview\", np.nan, inplace = True)\n",
        "df.overview.replace(\"No movie overview available.\", np.nan, inplace = True)\n",
        "df.overview.replace(\"No overview yet.\", np.nan, inplace = True)\n",
        "df.overview.value_counts(dropna=False)\n",
        "df.tagline.replace(\"-\", np.nan, inplace = True)"
      ]
    },
    {
      "attachments": {},
      "cell_type": "markdown",
      "metadata": {
        "id": "Dz8XnVZrsncR"
      },
      "source": [
        "## Removing Duplicates\n",
        "\n",
        "16. __Identify__ and __remove__ duplicates!"
      ]
    },
    {
      "cell_type": "code",
      "execution_count": null,
      "metadata": {
        "colab": {
          "base_uri": "https://localhost:8080/"
        },
        "id": "-oz5ZwofqlCo",
        "outputId": "93e67fc7-f741-448d-8ff6-2ba106b96ef2"
      },
      "outputs": [
        {
          "data": {
            "text/plain": [
              "False    33807\n",
              "True        12\n",
              "dtype: int64"
            ]
          },
          "execution_count": 113,
          "metadata": {},
          "output_type": "execute_result"
        }
      ],
      "source": [
        "df.duplicated().value_counts(dropna=False)"
      ]
    },
    {
      "cell_type": "code",
      "execution_count": null,
      "metadata": {
        "id": "J8bZ0EdwsvYd"
      },
      "outputs": [],
      "source": [
        "df.drop_duplicates(inplace=True)"
      ]
    },
    {
      "attachments": {},
      "cell_type": "markdown",
      "metadata": {
        "id": "ZLYpdl1a53kn"
      },
      "source": []
    },
    {
      "cell_type": "code",
      "execution_count": null,
      "metadata": {
        "colab": {
          "base_uri": "https://localhost:8080/"
        },
        "id": "LrG1oFj-s_Ey",
        "outputId": "bbed31e0-2465-4675-cf38-d39fcfc3f007"
      },
      "outputs": [
        {
          "data": {
            "text/plain": [
              "False    33807\n",
              "dtype: int64"
            ]
          },
          "execution_count": 118,
          "metadata": {},
          "output_type": "execute_result"
        }
      ],
      "source": [
        "df.duplicated().value_counts(dropna=False)"
      ]
    },
    {
      "attachments": {},
      "cell_type": "markdown",
      "metadata": {
        "id": "Cfhvi8pqtij_"
      },
      "source": [
        "## Handling Missing Values & Removing Observations\n",
        "\n",
        "17. __Drop__ all rows/movies with unknown __id__ or __title__.\n",
        "\n",
        "18. __Keep__ only those rows/movies in the df with __10 or more non-NaN__ values."
      ]
    },
    {
      "cell_type": "code",
      "execution_count": null,
      "metadata": {
        "colab": {
          "base_uri": "https://localhost:8080/"
        },
        "id": "5cdfSTGYtNok",
        "outputId": "4c2c8d9f-c1c6-4613-8dc3-ee50ac21db25"
      },
      "outputs": [
        {
          "data": {
            "text/plain": [
              "array(['Toy Story', 'Jumanji', 'Grumpier Old Men', ..., 'Parallel Life',\n",
              "       'Days of Wrath', 'Overheard 2'], dtype=object)"
            ]
          },
          "execution_count": 121,
          "metadata": {},
          "output_type": "execute_result"
        }
      ],
      "source": [
        "df.id.unique()\n",
        "df.title.unique()"
      ]
    },
    {
      "cell_type": "code",
      "execution_count": null,
      "metadata": {
        "colab": {
          "base_uri": "https://localhost:8080/"
        },
        "id": "wwUtQp08tzO4",
        "outputId": "bf197b56-afa3-40a6-f2d6-73aa0d9c64ce"
      },
      "outputs": [
        {
          "data": {
            "text/plain": [
              "belongs_to_collection    30136\n",
              "budget                   26128\n",
              "genres                       0\n",
              "id                           2\n",
              "original_language            4\n",
              "overview                   570\n",
              "popularity                   4\n",
              "poster_path                196\n",
              "production_companies     33807\n",
              "production_countries      3929\n",
              "release_date                41\n",
              "revenue                  27113\n",
              "runtime                    112\n",
              "spoken_languages          2408\n",
              "status                      57\n",
              "tagline                  16611\n",
              "title                        4\n",
              "vote_average                 4\n",
              "vote_count                   4\n",
              "dtype: int64"
            ]
          },
          "execution_count": 123,
          "metadata": {},
          "output_type": "execute_result"
        }
      ],
      "source": [
        "df.isna().sum()"
      ]
    },
    {
      "cell_type": "code",
      "execution_count": null,
      "metadata": {
        "id": "X5fTpBXPu0Ew"
      },
      "outputs": [],
      "source": [
        "df.dropna(subset=['id','title'], inplace=True)"
      ]
    },
    {
      "cell_type": "code",
      "execution_count": null,
      "metadata": {
        "id": "7oVvFnKAvFl6"
      },
      "outputs": [],
      "source": [
        "df.dropna(thresh=10, inplace=True)"
      ]
    },
    {
      "cell_type": "code",
      "execution_count": null,
      "metadata": {
        "colab": {
          "base_uri": "https://localhost:8080/"
        },
        "id": "FxYuT90yv1d_",
        "outputId": "e2aa3306-2dc2-4272-88fb-9664488c0c6a"
      },
      "outputs": [
        {
          "data": {
            "text/plain": [
              "belongs_to_collection    30125\n",
              "budget                   26116\n",
              "genres                       0\n",
              "id                           0\n",
              "original_language            4\n",
              "overview                   562\n",
              "popularity                   0\n",
              "poster_path                188\n",
              "production_companies     33795\n",
              "production_countries      3917\n",
              "release_date                34\n",
              "revenue                  27101\n",
              "runtime                    101\n",
              "spoken_languages          2396\n",
              "status                      50\n",
              "tagline                  16599\n",
              "title                        0\n",
              "vote_average                 0\n",
              "vote_count                   0\n",
              "dtype: int64"
            ]
          },
          "execution_count": 130,
          "metadata": {},
          "output_type": "execute_result"
        }
      ],
      "source": [
        "df.isna().sum()"
      ]
    },
    {
      "cell_type": "code",
      "execution_count": null,
      "metadata": {
        "id": "ZTmQOyJhwOwV"
      },
      "outputs": [],
      "source": [
        "df[df.original_language.isna() == True].dropna().inplace=True "
      ]
    },
    {
      "cell_type": "code",
      "execution_count": null,
      "metadata": {
        "colab": {
          "base_uri": "https://localhost:8080/"
        },
        "id": "iLGbhLCbwr5x",
        "outputId": "e6fcc0d4-e23a-4945-e767-1ebff5a4dfa0"
      },
      "outputs": [
        {
          "data": {
            "text/plain": [
              "belongs_to_collection    30125\n",
              "budget                   26116\n",
              "genres                       0\n",
              "id                           0\n",
              "original_language            4\n",
              "overview                   562\n",
              "popularity                   0\n",
              "poster_path                188\n",
              "production_companies     33795\n",
              "production_countries      3917\n",
              "release_date                34\n",
              "revenue                  27101\n",
              "runtime                    101\n",
              "spoken_languages          2396\n",
              "status                      50\n",
              "tagline                  16599\n",
              "title                        0\n",
              "vote_average                 0\n",
              "vote_count                   0\n",
              "dtype: int64"
            ]
          },
          "execution_count": 144,
          "metadata": {},
          "output_type": "execute_result"
        }
      ],
      "source": [
        "df.isna().sum()"
      ]
    },
    {
      "attachments": {},
      "cell_type": "markdown",
      "metadata": {
        "id": "CVpor5lVxxfD"
      },
      "source": [
        "## Final (Cleaning) Steps\n",
        "\n",
        "19. __Keep__ only those rows/movies in the df with __status \"Released\"__. Then __drop__ the column \"status\".\n",
        "\n",
        "20. The Order of the columns should be as follows: \n",
        "[\"id\", \"title\", \"tagline\", \"release_date\", \"genres\", \"belongs_to_collection\", \n",
        "\"original_language\", \"budget_musd\", \"revenue_musd\", \"production_companies\",\n",
        "\"production_countries\", \"vote_count\", \"vote_average\", \"popularity\", \"runtime\",\n",
        "\"overview\", \"spoken_languages\", \"poster_path\"]\n",
        "\n",
        "21. __Reset__ the Index and create a __RangeIndex__."
      ]
    },
    {
      "cell_type": "code",
      "execution_count": null,
      "metadata": {
        "id": "MCohCnRexh95"
      },
      "outputs": [],
      "source": [
        "df = df[df.status=='Released']"
      ]
    },
    {
      "cell_type": "code",
      "execution_count": null,
      "metadata": {
        "colab": {
          "base_uri": "https://localhost:8080/"
        },
        "id": "vGHhYUCnyHiN",
        "outputId": "65eacbc2-e638-4c4b-9780-5518bf2890cd"
      },
      "outputs": [
        {
          "data": {
            "text/plain": [
              "array(['Released'], dtype=object)"
            ]
          },
          "execution_count": 148,
          "metadata": {},
          "output_type": "execute_result"
        }
      ],
      "source": [
        "df.status.unique()"
      ]
    },
    {
      "cell_type": "code",
      "execution_count": null,
      "metadata": {
        "colab": {
          "base_uri": "https://localhost:8080/"
        },
        "id": "oPwncd1GyL4G",
        "outputId": "034e7103-87ac-4446-fb7e-566ed8c959af"
      },
      "outputs": [
        {
          "data": {
            "text/plain": [
              "Index(['belongs_to_collection', 'budget', 'genres', 'id', 'original_language',\n",
              "       'overview', 'popularity', 'poster_path', 'production_companies',\n",
              "       'production_countries', 'release_date', 'revenue', 'runtime',\n",
              "       'spoken_languages', 'status', 'tagline', 'title', 'vote_average',\n",
              "       'vote_count'],\n",
              "      dtype='object')"
            ]
          },
          "execution_count": 149,
          "metadata": {},
          "output_type": "execute_result"
        }
      ],
      "source": [
        "df.columns"
      ]
    },
    {
      "cell_type": "code",
      "execution_count": null,
      "metadata": {
        "id": "pFf-4EPJyWLU"
      },
      "outputs": [],
      "source": [
        "col = [\"id\", \"title\", \"tagline\", \"release_date\", \"genres\", \"belongs_to_collection\", \n",
        "       \"original_language\", \"budget_musd\", \"revenue_musd\", \"production_companies\",\n",
        "       \"production_countries\", \"vote_count\", \"vote_average\", \"popularity\", \"runtime\",\n",
        "       \"overview\", \"spoken_languages\", \"poster_path\"]\n",
        "\n",
        "      "
      ]
    },
    {
      "cell_type": "code",
      "execution_count": null,
      "metadata": {
        "colab": {
          "base_uri": "https://localhost:8080/"
        },
        "id": "eHW7KHXbyzU6",
        "outputId": "7d7644d0-b5f6-445a-f7fe-2f068b108cf1"
      },
      "outputs": [
        {
          "name": "stderr",
          "output_type": "stream",
          "text": [
            "<ipython-input-157-1cdffae3b09f>:1: SettingWithCopyWarning: \n",
            "A value is trying to be set on a copy of a slice from a DataFrame\n",
            "\n",
            "See the caveats in the documentation: https://pandas.pydata.org/pandas-docs/stable/user_guide/indexing.html#returning-a-view-versus-a-copy\n",
            "  df.rename(columns={'budget':'budget_musd', 'revenue':'revenue_musd'}, inplace=True)\n"
          ]
        }
      ],
      "source": [
        "df.rename(columns={'budget':'budget_musd', 'revenue':'revenue_musd'}, inplace=True)\n",
        "\n",
        "df=df.loc[:, col]"
      ]
    },
    {
      "cell_type": "code",
      "execution_count": null,
      "metadata": {
        "colab": {
          "base_uri": "https://localhost:8080/",
          "height": 1000
        },
        "id": "Oz7xUYvKzQZ1",
        "outputId": "3846603e-401d-4a61-de14-495a2de15871"
      },
      "outputs": [
        {
          "data": {
            "text/html": [
              "\n",
              "  <div id=\"df-5346c22e-2403-4f2d-8e9b-3cec9dce53ed\">\n",
              "    <div class=\"colab-df-container\">\n",
              "      <div>\n",
              "<style scoped>\n",
              "    .dataframe tbody tr th:only-of-type {\n",
              "        vertical-align: middle;\n",
              "    }\n",
              "\n",
              "    .dataframe tbody tr th {\n",
              "        vertical-align: top;\n",
              "    }\n",
              "\n",
              "    .dataframe thead th {\n",
              "        text-align: right;\n",
              "    }\n",
              "</style>\n",
              "<table border=\"1\" class=\"dataframe\">\n",
              "  <thead>\n",
              "    <tr style=\"text-align: right;\">\n",
              "      <th></th>\n",
              "      <th>id</th>\n",
              "      <th>title</th>\n",
              "      <th>tagline</th>\n",
              "      <th>release_date</th>\n",
              "      <th>genres</th>\n",
              "      <th>belongs_to_collection</th>\n",
              "      <th>original_language</th>\n",
              "      <th>budget_musd</th>\n",
              "      <th>revenue_musd</th>\n",
              "      <th>production_companies</th>\n",
              "      <th>production_countries</th>\n",
              "      <th>vote_count</th>\n",
              "      <th>vote_average</th>\n",
              "      <th>popularity</th>\n",
              "      <th>runtime</th>\n",
              "      <th>overview</th>\n",
              "      <th>spoken_languages</th>\n",
              "      <th>poster_path</th>\n",
              "    </tr>\n",
              "  </thead>\n",
              "  <tbody>\n",
              "    <tr>\n",
              "      <th>0</th>\n",
              "      <td>862.0</td>\n",
              "      <td>Toy Story</td>\n",
              "      <td>NaN</td>\n",
              "      <td>1995-10-30</td>\n",
              "      <td>Animation|Comedy|Family</td>\n",
              "      <td>Toy Story Collection</td>\n",
              "      <td>en</td>\n",
              "      <td>0.000030</td>\n",
              "      <td>373.554033</td>\n",
              "      <td>NaN</td>\n",
              "      <td>United States of America</td>\n",
              "      <td>5415.0</td>\n",
              "      <td>7.7</td>\n",
              "      <td>21.946943</td>\n",
              "      <td>81.0</td>\n",
              "      <td>Led by Woody, Andy's toys live happily in his ...</td>\n",
              "      <td>English</td>\n",
              "      <td>/rhIRbceoE9lR4veEXuwCC2wARtG.jpg</td>\n",
              "    </tr>\n",
              "    <tr>\n",
              "      <th>1</th>\n",
              "      <td>8844.0</td>\n",
              "      <td>Jumanji</td>\n",
              "      <td>Roll the dice and unleash the excitement!</td>\n",
              "      <td>1995-12-15</td>\n",
              "      <td>Adventure|Fantasy|Family</td>\n",
              "      <td>NaN</td>\n",
              "      <td>en</td>\n",
              "      <td>0.000065</td>\n",
              "      <td>262.797249</td>\n",
              "      <td>NaN</td>\n",
              "      <td>United States of America</td>\n",
              "      <td>2413.0</td>\n",
              "      <td>6.9</td>\n",
              "      <td>17.015539</td>\n",
              "      <td>104.0</td>\n",
              "      <td>When siblings Judy and Peter discover an encha...</td>\n",
              "      <td>English|Français</td>\n",
              "      <td>/vzmL6fP7aPKNKPRTFnZmiUfciyV.jpg</td>\n",
              "    </tr>\n",
              "    <tr>\n",
              "      <th>2</th>\n",
              "      <td>15602.0</td>\n",
              "      <td>Grumpier Old Men</td>\n",
              "      <td>Still Yelling. Still Fighting. Still Ready for...</td>\n",
              "      <td>1995-12-22</td>\n",
              "      <td>Romance|Comedy</td>\n",
              "      <td>Grumpy Old Men Collection</td>\n",
              "      <td>en</td>\n",
              "      <td>NaN</td>\n",
              "      <td>NaN</td>\n",
              "      <td>NaN</td>\n",
              "      <td>United States of America</td>\n",
              "      <td>92.0</td>\n",
              "      <td>6.5</td>\n",
              "      <td>11.712900</td>\n",
              "      <td>101.0</td>\n",
              "      <td>A family wedding reignites the ancient feud be...</td>\n",
              "      <td>English</td>\n",
              "      <td>/6ksm1sjKMFLbO7UY2i6G1ju9SML.jpg</td>\n",
              "    </tr>\n",
              "    <tr>\n",
              "      <th>3</th>\n",
              "      <td>31357.0</td>\n",
              "      <td>Waiting to Exhale</td>\n",
              "      <td>Friends are the people who let you be yourself...</td>\n",
              "      <td>1995-12-22</td>\n",
              "      <td>Comedy|Drama|Romance</td>\n",
              "      <td>NaN</td>\n",
              "      <td>en</td>\n",
              "      <td>0.000016</td>\n",
              "      <td>81.452156</td>\n",
              "      <td>NaN</td>\n",
              "      <td>United States of America</td>\n",
              "      <td>34.0</td>\n",
              "      <td>6.1</td>\n",
              "      <td>3.859495</td>\n",
              "      <td>127.0</td>\n",
              "      <td>Cheated on, mistreated and stepped on, the wom...</td>\n",
              "      <td>English</td>\n",
              "      <td>/16XOMpEaLWkrcPqSQqhTmeJuqQl.jpg</td>\n",
              "    </tr>\n",
              "    <tr>\n",
              "      <th>4</th>\n",
              "      <td>11862.0</td>\n",
              "      <td>Father of the Bride Part II</td>\n",
              "      <td>Just When His World Is Back To Normal... He's ...</td>\n",
              "      <td>1995-02-10</td>\n",
              "      <td>Comedy</td>\n",
              "      <td>Father of the Bride Collection</td>\n",
              "      <td>en</td>\n",
              "      <td>NaN</td>\n",
              "      <td>76.578911</td>\n",
              "      <td>NaN</td>\n",
              "      <td>United States of America</td>\n",
              "      <td>173.0</td>\n",
              "      <td>5.7</td>\n",
              "      <td>8.387519</td>\n",
              "      <td>106.0</td>\n",
              "      <td>Just when George Banks has recovered from his ...</td>\n",
              "      <td>English</td>\n",
              "      <td>/e64sOI48hQXyru7naBFyssKFxVd.jpg</td>\n",
              "    </tr>\n",
              "    <tr>\n",
              "      <th>...</th>\n",
              "      <td>...</td>\n",
              "      <td>...</td>\n",
              "      <td>...</td>\n",
              "      <td>...</td>\n",
              "      <td>...</td>\n",
              "      <td>...</td>\n",
              "      <td>...</td>\n",
              "      <td>...</td>\n",
              "      <td>...</td>\n",
              "      <td>...</td>\n",
              "      <td>...</td>\n",
              "      <td>...</td>\n",
              "      <td>...</td>\n",
              "      <td>...</td>\n",
              "      <td>...</td>\n",
              "      <td>...</td>\n",
              "      <td>...</td>\n",
              "      <td>...</td>\n",
              "    </tr>\n",
              "    <tr>\n",
              "      <th>33814</th>\n",
              "      <td>32164.0</td>\n",
              "      <td>Divergence</td>\n",
              "      <td>NaN</td>\n",
              "      <td>2005-01-01</td>\n",
              "      <td>Action|Thriller|Foreign</td>\n",
              "      <td>NaN</td>\n",
              "      <td>cn</td>\n",
              "      <td>NaN</td>\n",
              "      <td>NaN</td>\n",
              "      <td>NaN</td>\n",
              "      <td>Hong Kong</td>\n",
              "      <td>11.0</td>\n",
              "      <td>6.8</td>\n",
              "      <td>0.893082</td>\n",
              "      <td>101.0</td>\n",
              "      <td>A cop, a lawyer, and an assassin cross paths a...</td>\n",
              "      <td>广州话 / 廣州話|English|普通话</td>\n",
              "      <td>/fBVVzwewWQgV0LUhowH3QuLiTDq.jpg</td>\n",
              "    </tr>\n",
              "    <tr>\n",
              "      <th>33815</th>\n",
              "      <td>72074.0</td>\n",
              "      <td>Murderer</td>\n",
              "      <td>NaN</td>\n",
              "      <td>2009-07-09</td>\n",
              "      <td>Drama|Thriller|Crime|Mystery|Foreign</td>\n",
              "      <td>NaN</td>\n",
              "      <td>cn</td>\n",
              "      <td>NaN</td>\n",
              "      <td>NaN</td>\n",
              "      <td>NaN</td>\n",
              "      <td>Hong Kong</td>\n",
              "      <td>8.0</td>\n",
              "      <td>6.3</td>\n",
              "      <td>1.206100</td>\n",
              "      <td>120.0</td>\n",
              "      <td>A Hong Kong-set mystery centered on a detectiv...</td>\n",
              "      <td>广州话 / 廣州話|普通话</td>\n",
              "      <td>/lLjhtN75KUyJqujfppdb59wqlo1.jpg</td>\n",
              "    </tr>\n",
              "    <tr>\n",
              "      <th>33816</th>\n",
              "      <td>52441.0</td>\n",
              "      <td>Parallel Life</td>\n",
              "      <td>NaN</td>\n",
              "      <td>2010-02-18</td>\n",
              "      <td>Action|Thriller|Drama|Mystery</td>\n",
              "      <td>NaN</td>\n",
              "      <td>ko</td>\n",
              "      <td>NaN</td>\n",
              "      <td>NaN</td>\n",
              "      <td>NaN</td>\n",
              "      <td>South Korea</td>\n",
              "      <td>9.0</td>\n",
              "      <td>6.3</td>\n",
              "      <td>0.364937</td>\n",
              "      <td>110.0</td>\n",
              "      <td>Kin Suk-hyun is Korea’s youngest appointed cri...</td>\n",
              "      <td>한국어/조선말</td>\n",
              "      <td>/61wni7gg3BK65yJ8UaqFjpHS6Vv.jpg</td>\n",
              "    </tr>\n",
              "    <tr>\n",
              "      <th>33817</th>\n",
              "      <td>257568.0</td>\n",
              "      <td>Days of Wrath</td>\n",
              "      <td>NaN</td>\n",
              "      <td>2013-10-30</td>\n",
              "      <td>Action|Drama|Thriller</td>\n",
              "      <td>NaN</td>\n",
              "      <td>en</td>\n",
              "      <td>NaN</td>\n",
              "      <td>NaN</td>\n",
              "      <td>NaN</td>\n",
              "      <td>South Korea</td>\n",
              "      <td>7.0</td>\n",
              "      <td>6.6</td>\n",
              "      <td>1.105183</td>\n",
              "      <td>120.0</td>\n",
              "      <td>Back in his high school days, Joon-Seok (Joo S...</td>\n",
              "      <td>한국어/조선말</td>\n",
              "      <td>/ji48fwcYraM6ICVLGbi9uHrSWpO.jpg</td>\n",
              "    </tr>\n",
              "    <tr>\n",
              "      <th>33818</th>\n",
              "      <td>74639.0</td>\n",
              "      <td>Overheard 2</td>\n",
              "      <td>NaN</td>\n",
              "      <td>2011-08-18</td>\n",
              "      <td>Action|Drama|Thriller</td>\n",
              "      <td>Overheard Collection</td>\n",
              "      <td>cn</td>\n",
              "      <td>0.000008</td>\n",
              "      <td>NaN</td>\n",
              "      <td>NaN</td>\n",
              "      <td>Hong Kong</td>\n",
              "      <td>22.0</td>\n",
              "      <td>5.9</td>\n",
              "      <td>1.172189</td>\n",
              "      <td>121.0</td>\n",
              "      <td>Manson Law, a celebrated stockbroker in Hong K...</td>\n",
              "      <td>广州话 / 廣州話</td>\n",
              "      <td>/lRvjMJtIPxOOzUIot6jnXh4Mc4q.jpg</td>\n",
              "    </tr>\n",
              "  </tbody>\n",
              "</table>\n",
              "<p>33531 rows × 18 columns</p>\n",
              "</div>\n",
              "      <button class=\"colab-df-convert\" onclick=\"convertToInteractive('df-5346c22e-2403-4f2d-8e9b-3cec9dce53ed')\"\n",
              "              title=\"Convert this dataframe to an interactive table.\"\n",
              "              style=\"display:none;\">\n",
              "        \n",
              "  <svg xmlns=\"http://www.w3.org/2000/svg\" height=\"24px\"viewBox=\"0 0 24 24\"\n",
              "       width=\"24px\">\n",
              "    <path d=\"M0 0h24v24H0V0z\" fill=\"none\"/>\n",
              "    <path d=\"M18.56 5.44l.94 2.06.94-2.06 2.06-.94-2.06-.94-.94-2.06-.94 2.06-2.06.94zm-11 1L8.5 8.5l.94-2.06 2.06-.94-2.06-.94L8.5 2.5l-.94 2.06-2.06.94zm10 10l.94 2.06.94-2.06 2.06-.94-2.06-.94-.94-2.06-.94 2.06-2.06.94z\"/><path d=\"M17.41 7.96l-1.37-1.37c-.4-.4-.92-.59-1.43-.59-.52 0-1.04.2-1.43.59L10.3 9.45l-7.72 7.72c-.78.78-.78 2.05 0 2.83L4 21.41c.39.39.9.59 1.41.59.51 0 1.02-.2 1.41-.59l7.78-7.78 2.81-2.81c.8-.78.8-2.07 0-2.86zM5.41 20L4 18.59l7.72-7.72 1.47 1.35L5.41 20z\"/>\n",
              "  </svg>\n",
              "      </button>\n",
              "      \n",
              "  <style>\n",
              "    .colab-df-container {\n",
              "      display:flex;\n",
              "      flex-wrap:wrap;\n",
              "      gap: 12px;\n",
              "    }\n",
              "\n",
              "    .colab-df-convert {\n",
              "      background-color: #E8F0FE;\n",
              "      border: none;\n",
              "      border-radius: 50%;\n",
              "      cursor: pointer;\n",
              "      display: none;\n",
              "      fill: #1967D2;\n",
              "      height: 32px;\n",
              "      padding: 0 0 0 0;\n",
              "      width: 32px;\n",
              "    }\n",
              "\n",
              "    .colab-df-convert:hover {\n",
              "      background-color: #E2EBFA;\n",
              "      box-shadow: 0px 1px 2px rgba(60, 64, 67, 0.3), 0px 1px 3px 1px rgba(60, 64, 67, 0.15);\n",
              "      fill: #174EA6;\n",
              "    }\n",
              "\n",
              "    [theme=dark] .colab-df-convert {\n",
              "      background-color: #3B4455;\n",
              "      fill: #D2E3FC;\n",
              "    }\n",
              "\n",
              "    [theme=dark] .colab-df-convert:hover {\n",
              "      background-color: #434B5C;\n",
              "      box-shadow: 0px 1px 3px 1px rgba(0, 0, 0, 0.15);\n",
              "      filter: drop-shadow(0px 1px 2px rgba(0, 0, 0, 0.3));\n",
              "      fill: #FFFFFF;\n",
              "    }\n",
              "  </style>\n",
              "\n",
              "      <script>\n",
              "        const buttonEl =\n",
              "          document.querySelector('#df-5346c22e-2403-4f2d-8e9b-3cec9dce53ed button.colab-df-convert');\n",
              "        buttonEl.style.display =\n",
              "          google.colab.kernel.accessAllowed ? 'block' : 'none';\n",
              "\n",
              "        async function convertToInteractive(key) {\n",
              "          const element = document.querySelector('#df-5346c22e-2403-4f2d-8e9b-3cec9dce53ed');\n",
              "          const dataTable =\n",
              "            await google.colab.kernel.invokeFunction('convertToInteractive',\n",
              "                                                     [key], {});\n",
              "          if (!dataTable) return;\n",
              "\n",
              "          const docLinkHtml = 'Like what you see? Visit the ' +\n",
              "            '<a target=\"_blank\" href=https://colab.research.google.com/notebooks/data_table.ipynb>data table notebook</a>'\n",
              "            + ' to learn more about interactive tables.';\n",
              "          element.innerHTML = '';\n",
              "          dataTable['output_type'] = 'display_data';\n",
              "          await google.colab.output.renderOutput(dataTable, element);\n",
              "          const docLink = document.createElement('div');\n",
              "          docLink.innerHTML = docLinkHtml;\n",
              "          element.appendChild(docLink);\n",
              "        }\n",
              "      </script>\n",
              "    </div>\n",
              "  </div>\n",
              "  "
            ],
            "text/plain": [
              "             id                        title  \\\n",
              "0         862.0                    Toy Story   \n",
              "1        8844.0                      Jumanji   \n",
              "2       15602.0             Grumpier Old Men   \n",
              "3       31357.0            Waiting to Exhale   \n",
              "4       11862.0  Father of the Bride Part II   \n",
              "...         ...                          ...   \n",
              "33814   32164.0                   Divergence   \n",
              "33815   72074.0                     Murderer   \n",
              "33816   52441.0                Parallel Life   \n",
              "33817  257568.0                Days of Wrath   \n",
              "33818   74639.0                  Overheard 2   \n",
              "\n",
              "                                                 tagline release_date  \\\n",
              "0                                                    NaN   1995-10-30   \n",
              "1              Roll the dice and unleash the excitement!   1995-12-15   \n",
              "2      Still Yelling. Still Fighting. Still Ready for...   1995-12-22   \n",
              "3      Friends are the people who let you be yourself...   1995-12-22   \n",
              "4      Just When His World Is Back To Normal... He's ...   1995-02-10   \n",
              "...                                                  ...          ...   \n",
              "33814                                                NaN   2005-01-01   \n",
              "33815                                                NaN   2009-07-09   \n",
              "33816                                                NaN   2010-02-18   \n",
              "33817                                                NaN   2013-10-30   \n",
              "33818                                                NaN   2011-08-18   \n",
              "\n",
              "                                     genres           belongs_to_collection  \\\n",
              "0                   Animation|Comedy|Family            Toy Story Collection   \n",
              "1                  Adventure|Fantasy|Family                             NaN   \n",
              "2                            Romance|Comedy       Grumpy Old Men Collection   \n",
              "3                      Comedy|Drama|Romance                             NaN   \n",
              "4                                    Comedy  Father of the Bride Collection   \n",
              "...                                     ...                             ...   \n",
              "33814               Action|Thriller|Foreign                             NaN   \n",
              "33815  Drama|Thriller|Crime|Mystery|Foreign                             NaN   \n",
              "33816         Action|Thriller|Drama|Mystery                             NaN   \n",
              "33817                 Action|Drama|Thriller                             NaN   \n",
              "33818                 Action|Drama|Thriller            Overheard Collection   \n",
              "\n",
              "      original_language  budget_musd  revenue_musd  production_companies  \\\n",
              "0                    en     0.000030    373.554033                   NaN   \n",
              "1                    en     0.000065    262.797249                   NaN   \n",
              "2                    en          NaN           NaN                   NaN   \n",
              "3                    en     0.000016     81.452156                   NaN   \n",
              "4                    en          NaN     76.578911                   NaN   \n",
              "...                 ...          ...           ...                   ...   \n",
              "33814                cn          NaN           NaN                   NaN   \n",
              "33815                cn          NaN           NaN                   NaN   \n",
              "33816                ko          NaN           NaN                   NaN   \n",
              "33817                en          NaN           NaN                   NaN   \n",
              "33818                cn     0.000008           NaN                   NaN   \n",
              "\n",
              "           production_countries  vote_count  vote_average  popularity  \\\n",
              "0      United States of America      5415.0           7.7   21.946943   \n",
              "1      United States of America      2413.0           6.9   17.015539   \n",
              "2      United States of America        92.0           6.5   11.712900   \n",
              "3      United States of America        34.0           6.1    3.859495   \n",
              "4      United States of America       173.0           5.7    8.387519   \n",
              "...                         ...         ...           ...         ...   \n",
              "33814                 Hong Kong        11.0           6.8    0.893082   \n",
              "33815                 Hong Kong         8.0           6.3    1.206100   \n",
              "33816               South Korea         9.0           6.3    0.364937   \n",
              "33817               South Korea         7.0           6.6    1.105183   \n",
              "33818                 Hong Kong        22.0           5.9    1.172189   \n",
              "\n",
              "       runtime                                           overview  \\\n",
              "0         81.0  Led by Woody, Andy's toys live happily in his ...   \n",
              "1        104.0  When siblings Judy and Peter discover an encha...   \n",
              "2        101.0  A family wedding reignites the ancient feud be...   \n",
              "3        127.0  Cheated on, mistreated and stepped on, the wom...   \n",
              "4        106.0  Just when George Banks has recovered from his ...   \n",
              "...        ...                                                ...   \n",
              "33814    101.0  A cop, a lawyer, and an assassin cross paths a...   \n",
              "33815    120.0  A Hong Kong-set mystery centered on a detectiv...   \n",
              "33816    110.0  Kin Suk-hyun is Korea’s youngest appointed cri...   \n",
              "33817    120.0  Back in his high school days, Joon-Seok (Joo S...   \n",
              "33818    121.0  Manson Law, a celebrated stockbroker in Hong K...   \n",
              "\n",
              "            spoken_languages                       poster_path  \n",
              "0                    English  /rhIRbceoE9lR4veEXuwCC2wARtG.jpg  \n",
              "1           English|Français  /vzmL6fP7aPKNKPRTFnZmiUfciyV.jpg  \n",
              "2                    English  /6ksm1sjKMFLbO7UY2i6G1ju9SML.jpg  \n",
              "3                    English  /16XOMpEaLWkrcPqSQqhTmeJuqQl.jpg  \n",
              "4                    English  /e64sOI48hQXyru7naBFyssKFxVd.jpg  \n",
              "...                      ...                               ...  \n",
              "33814  广州话 / 廣州話|English|普通话  /fBVVzwewWQgV0LUhowH3QuLiTDq.jpg  \n",
              "33815          广州话 / 廣州話|普通话  /lLjhtN75KUyJqujfppdb59wqlo1.jpg  \n",
              "33816                한국어/조선말  /61wni7gg3BK65yJ8UaqFjpHS6Vv.jpg  \n",
              "33817                한국어/조선말  /ji48fwcYraM6ICVLGbi9uHrSWpO.jpg  \n",
              "33818              广州话 / 廣州話  /lRvjMJtIPxOOzUIot6jnXh4Mc4q.jpg  \n",
              "\n",
              "[33531 rows x 18 columns]"
            ]
          },
          "execution_count": 158,
          "metadata": {},
          "output_type": "execute_result"
        }
      ],
      "source": [
        "df"
      ]
    },
    {
      "cell_type": "code",
      "execution_count": null,
      "metadata": {
        "id": "mWjyz2U6z2_x"
      },
      "outputs": [],
      "source": [
        "df.reset_index(drop=True, inplace=True)"
      ]
    },
    {
      "cell_type": "code",
      "execution_count": null,
      "metadata": {
        "colab": {
          "base_uri": "https://localhost:8080/",
          "height": 1000
        },
        "id": "TWDEFGsF0BzG",
        "outputId": "15f2379e-8690-447e-8641-95a085a71931"
      },
      "outputs": [
        {
          "data": {
            "text/html": [
              "\n",
              "  <div id=\"df-3a7e45ac-100d-4621-9e7d-21e97e737805\">\n",
              "    <div class=\"colab-df-container\">\n",
              "      <div>\n",
              "<style scoped>\n",
              "    .dataframe tbody tr th:only-of-type {\n",
              "        vertical-align: middle;\n",
              "    }\n",
              "\n",
              "    .dataframe tbody tr th {\n",
              "        vertical-align: top;\n",
              "    }\n",
              "\n",
              "    .dataframe thead th {\n",
              "        text-align: right;\n",
              "    }\n",
              "</style>\n",
              "<table border=\"1\" class=\"dataframe\">\n",
              "  <thead>\n",
              "    <tr style=\"text-align: right;\">\n",
              "      <th></th>\n",
              "      <th>id</th>\n",
              "      <th>title</th>\n",
              "      <th>tagline</th>\n",
              "      <th>release_date</th>\n",
              "      <th>genres</th>\n",
              "      <th>belongs_to_collection</th>\n",
              "      <th>original_language</th>\n",
              "      <th>budget_musd</th>\n",
              "      <th>revenue_musd</th>\n",
              "      <th>production_companies</th>\n",
              "      <th>production_countries</th>\n",
              "      <th>vote_count</th>\n",
              "      <th>vote_average</th>\n",
              "      <th>popularity</th>\n",
              "      <th>runtime</th>\n",
              "      <th>overview</th>\n",
              "      <th>spoken_languages</th>\n",
              "      <th>poster_path</th>\n",
              "    </tr>\n",
              "  </thead>\n",
              "  <tbody>\n",
              "    <tr>\n",
              "      <th>0</th>\n",
              "      <td>862.0</td>\n",
              "      <td>Toy Story</td>\n",
              "      <td>NaN</td>\n",
              "      <td>1995-10-30</td>\n",
              "      <td>Animation|Comedy|Family</td>\n",
              "      <td>Toy Story Collection</td>\n",
              "      <td>en</td>\n",
              "      <td>0.000030</td>\n",
              "      <td>373.554033</td>\n",
              "      <td>NaN</td>\n",
              "      <td>United States of America</td>\n",
              "      <td>5415.0</td>\n",
              "      <td>7.7</td>\n",
              "      <td>21.946943</td>\n",
              "      <td>81.0</td>\n",
              "      <td>Led by Woody, Andy's toys live happily in his ...</td>\n",
              "      <td>English</td>\n",
              "      <td>/rhIRbceoE9lR4veEXuwCC2wARtG.jpg</td>\n",
              "    </tr>\n",
              "    <tr>\n",
              "      <th>1</th>\n",
              "      <td>8844.0</td>\n",
              "      <td>Jumanji</td>\n",
              "      <td>Roll the dice and unleash the excitement!</td>\n",
              "      <td>1995-12-15</td>\n",
              "      <td>Adventure|Fantasy|Family</td>\n",
              "      <td>NaN</td>\n",
              "      <td>en</td>\n",
              "      <td>0.000065</td>\n",
              "      <td>262.797249</td>\n",
              "      <td>NaN</td>\n",
              "      <td>United States of America</td>\n",
              "      <td>2413.0</td>\n",
              "      <td>6.9</td>\n",
              "      <td>17.015539</td>\n",
              "      <td>104.0</td>\n",
              "      <td>When siblings Judy and Peter discover an encha...</td>\n",
              "      <td>English|Français</td>\n",
              "      <td>/vzmL6fP7aPKNKPRTFnZmiUfciyV.jpg</td>\n",
              "    </tr>\n",
              "    <tr>\n",
              "      <th>2</th>\n",
              "      <td>15602.0</td>\n",
              "      <td>Grumpier Old Men</td>\n",
              "      <td>Still Yelling. Still Fighting. Still Ready for...</td>\n",
              "      <td>1995-12-22</td>\n",
              "      <td>Romance|Comedy</td>\n",
              "      <td>Grumpy Old Men Collection</td>\n",
              "      <td>en</td>\n",
              "      <td>NaN</td>\n",
              "      <td>NaN</td>\n",
              "      <td>NaN</td>\n",
              "      <td>United States of America</td>\n",
              "      <td>92.0</td>\n",
              "      <td>6.5</td>\n",
              "      <td>11.712900</td>\n",
              "      <td>101.0</td>\n",
              "      <td>A family wedding reignites the ancient feud be...</td>\n",
              "      <td>English</td>\n",
              "      <td>/6ksm1sjKMFLbO7UY2i6G1ju9SML.jpg</td>\n",
              "    </tr>\n",
              "    <tr>\n",
              "      <th>3</th>\n",
              "      <td>31357.0</td>\n",
              "      <td>Waiting to Exhale</td>\n",
              "      <td>Friends are the people who let you be yourself...</td>\n",
              "      <td>1995-12-22</td>\n",
              "      <td>Comedy|Drama|Romance</td>\n",
              "      <td>NaN</td>\n",
              "      <td>en</td>\n",
              "      <td>0.000016</td>\n",
              "      <td>81.452156</td>\n",
              "      <td>NaN</td>\n",
              "      <td>United States of America</td>\n",
              "      <td>34.0</td>\n",
              "      <td>6.1</td>\n",
              "      <td>3.859495</td>\n",
              "      <td>127.0</td>\n",
              "      <td>Cheated on, mistreated and stepped on, the wom...</td>\n",
              "      <td>English</td>\n",
              "      <td>/16XOMpEaLWkrcPqSQqhTmeJuqQl.jpg</td>\n",
              "    </tr>\n",
              "    <tr>\n",
              "      <th>4</th>\n",
              "      <td>11862.0</td>\n",
              "      <td>Father of the Bride Part II</td>\n",
              "      <td>Just When His World Is Back To Normal... He's ...</td>\n",
              "      <td>1995-02-10</td>\n",
              "      <td>Comedy</td>\n",
              "      <td>Father of the Bride Collection</td>\n",
              "      <td>en</td>\n",
              "      <td>NaN</td>\n",
              "      <td>76.578911</td>\n",
              "      <td>NaN</td>\n",
              "      <td>United States of America</td>\n",
              "      <td>173.0</td>\n",
              "      <td>5.7</td>\n",
              "      <td>8.387519</td>\n",
              "      <td>106.0</td>\n",
              "      <td>Just when George Banks has recovered from his ...</td>\n",
              "      <td>English</td>\n",
              "      <td>/e64sOI48hQXyru7naBFyssKFxVd.jpg</td>\n",
              "    </tr>\n",
              "    <tr>\n",
              "      <th>...</th>\n",
              "      <td>...</td>\n",
              "      <td>...</td>\n",
              "      <td>...</td>\n",
              "      <td>...</td>\n",
              "      <td>...</td>\n",
              "      <td>...</td>\n",
              "      <td>...</td>\n",
              "      <td>...</td>\n",
              "      <td>...</td>\n",
              "      <td>...</td>\n",
              "      <td>...</td>\n",
              "      <td>...</td>\n",
              "      <td>...</td>\n",
              "      <td>...</td>\n",
              "      <td>...</td>\n",
              "      <td>...</td>\n",
              "      <td>...</td>\n",
              "      <td>...</td>\n",
              "    </tr>\n",
              "    <tr>\n",
              "      <th>33526</th>\n",
              "      <td>32164.0</td>\n",
              "      <td>Divergence</td>\n",
              "      <td>NaN</td>\n",
              "      <td>2005-01-01</td>\n",
              "      <td>Action|Thriller|Foreign</td>\n",
              "      <td>NaN</td>\n",
              "      <td>cn</td>\n",
              "      <td>NaN</td>\n",
              "      <td>NaN</td>\n",
              "      <td>NaN</td>\n",
              "      <td>Hong Kong</td>\n",
              "      <td>11.0</td>\n",
              "      <td>6.8</td>\n",
              "      <td>0.893082</td>\n",
              "      <td>101.0</td>\n",
              "      <td>A cop, a lawyer, and an assassin cross paths a...</td>\n",
              "      <td>广州话 / 廣州話|English|普通话</td>\n",
              "      <td>/fBVVzwewWQgV0LUhowH3QuLiTDq.jpg</td>\n",
              "    </tr>\n",
              "    <tr>\n",
              "      <th>33527</th>\n",
              "      <td>72074.0</td>\n",
              "      <td>Murderer</td>\n",
              "      <td>NaN</td>\n",
              "      <td>2009-07-09</td>\n",
              "      <td>Drama|Thriller|Crime|Mystery|Foreign</td>\n",
              "      <td>NaN</td>\n",
              "      <td>cn</td>\n",
              "      <td>NaN</td>\n",
              "      <td>NaN</td>\n",
              "      <td>NaN</td>\n",
              "      <td>Hong Kong</td>\n",
              "      <td>8.0</td>\n",
              "      <td>6.3</td>\n",
              "      <td>1.206100</td>\n",
              "      <td>120.0</td>\n",
              "      <td>A Hong Kong-set mystery centered on a detectiv...</td>\n",
              "      <td>广州话 / 廣州話|普通话</td>\n",
              "      <td>/lLjhtN75KUyJqujfppdb59wqlo1.jpg</td>\n",
              "    </tr>\n",
              "    <tr>\n",
              "      <th>33528</th>\n",
              "      <td>52441.0</td>\n",
              "      <td>Parallel Life</td>\n",
              "      <td>NaN</td>\n",
              "      <td>2010-02-18</td>\n",
              "      <td>Action|Thriller|Drama|Mystery</td>\n",
              "      <td>NaN</td>\n",
              "      <td>ko</td>\n",
              "      <td>NaN</td>\n",
              "      <td>NaN</td>\n",
              "      <td>NaN</td>\n",
              "      <td>South Korea</td>\n",
              "      <td>9.0</td>\n",
              "      <td>6.3</td>\n",
              "      <td>0.364937</td>\n",
              "      <td>110.0</td>\n",
              "      <td>Kin Suk-hyun is Korea’s youngest appointed cri...</td>\n",
              "      <td>한국어/조선말</td>\n",
              "      <td>/61wni7gg3BK65yJ8UaqFjpHS6Vv.jpg</td>\n",
              "    </tr>\n",
              "    <tr>\n",
              "      <th>33529</th>\n",
              "      <td>257568.0</td>\n",
              "      <td>Days of Wrath</td>\n",
              "      <td>NaN</td>\n",
              "      <td>2013-10-30</td>\n",
              "      <td>Action|Drama|Thriller</td>\n",
              "      <td>NaN</td>\n",
              "      <td>en</td>\n",
              "      <td>NaN</td>\n",
              "      <td>NaN</td>\n",
              "      <td>NaN</td>\n",
              "      <td>South Korea</td>\n",
              "      <td>7.0</td>\n",
              "      <td>6.6</td>\n",
              "      <td>1.105183</td>\n",
              "      <td>120.0</td>\n",
              "      <td>Back in his high school days, Joon-Seok (Joo S...</td>\n",
              "      <td>한국어/조선말</td>\n",
              "      <td>/ji48fwcYraM6ICVLGbi9uHrSWpO.jpg</td>\n",
              "    </tr>\n",
              "    <tr>\n",
              "      <th>33530</th>\n",
              "      <td>74639.0</td>\n",
              "      <td>Overheard 2</td>\n",
              "      <td>NaN</td>\n",
              "      <td>2011-08-18</td>\n",
              "      <td>Action|Drama|Thriller</td>\n",
              "      <td>Overheard Collection</td>\n",
              "      <td>cn</td>\n",
              "      <td>0.000008</td>\n",
              "      <td>NaN</td>\n",
              "      <td>NaN</td>\n",
              "      <td>Hong Kong</td>\n",
              "      <td>22.0</td>\n",
              "      <td>5.9</td>\n",
              "      <td>1.172189</td>\n",
              "      <td>121.0</td>\n",
              "      <td>Manson Law, a celebrated stockbroker in Hong K...</td>\n",
              "      <td>广州话 / 廣州話</td>\n",
              "      <td>/lRvjMJtIPxOOzUIot6jnXh4Mc4q.jpg</td>\n",
              "    </tr>\n",
              "  </tbody>\n",
              "</table>\n",
              "<p>33531 rows × 18 columns</p>\n",
              "</div>\n",
              "      <button class=\"colab-df-convert\" onclick=\"convertToInteractive('df-3a7e45ac-100d-4621-9e7d-21e97e737805')\"\n",
              "              title=\"Convert this dataframe to an interactive table.\"\n",
              "              style=\"display:none;\">\n",
              "        \n",
              "  <svg xmlns=\"http://www.w3.org/2000/svg\" height=\"24px\"viewBox=\"0 0 24 24\"\n",
              "       width=\"24px\">\n",
              "    <path d=\"M0 0h24v24H0V0z\" fill=\"none\"/>\n",
              "    <path d=\"M18.56 5.44l.94 2.06.94-2.06 2.06-.94-2.06-.94-.94-2.06-.94 2.06-2.06.94zm-11 1L8.5 8.5l.94-2.06 2.06-.94-2.06-.94L8.5 2.5l-.94 2.06-2.06.94zm10 10l.94 2.06.94-2.06 2.06-.94-2.06-.94-.94-2.06-.94 2.06-2.06.94z\"/><path d=\"M17.41 7.96l-1.37-1.37c-.4-.4-.92-.59-1.43-.59-.52 0-1.04.2-1.43.59L10.3 9.45l-7.72 7.72c-.78.78-.78 2.05 0 2.83L4 21.41c.39.39.9.59 1.41.59.51 0 1.02-.2 1.41-.59l7.78-7.78 2.81-2.81c.8-.78.8-2.07 0-2.86zM5.41 20L4 18.59l7.72-7.72 1.47 1.35L5.41 20z\"/>\n",
              "  </svg>\n",
              "      </button>\n",
              "      \n",
              "  <style>\n",
              "    .colab-df-container {\n",
              "      display:flex;\n",
              "      flex-wrap:wrap;\n",
              "      gap: 12px;\n",
              "    }\n",
              "\n",
              "    .colab-df-convert {\n",
              "      background-color: #E8F0FE;\n",
              "      border: none;\n",
              "      border-radius: 50%;\n",
              "      cursor: pointer;\n",
              "      display: none;\n",
              "      fill: #1967D2;\n",
              "      height: 32px;\n",
              "      padding: 0 0 0 0;\n",
              "      width: 32px;\n",
              "    }\n",
              "\n",
              "    .colab-df-convert:hover {\n",
              "      background-color: #E2EBFA;\n",
              "      box-shadow: 0px 1px 2px rgba(60, 64, 67, 0.3), 0px 1px 3px 1px rgba(60, 64, 67, 0.15);\n",
              "      fill: #174EA6;\n",
              "    }\n",
              "\n",
              "    [theme=dark] .colab-df-convert {\n",
              "      background-color: #3B4455;\n",
              "      fill: #D2E3FC;\n",
              "    }\n",
              "\n",
              "    [theme=dark] .colab-df-convert:hover {\n",
              "      background-color: #434B5C;\n",
              "      box-shadow: 0px 1px 3px 1px rgba(0, 0, 0, 0.15);\n",
              "      filter: drop-shadow(0px 1px 2px rgba(0, 0, 0, 0.3));\n",
              "      fill: #FFFFFF;\n",
              "    }\n",
              "  </style>\n",
              "\n",
              "      <script>\n",
              "        const buttonEl =\n",
              "          document.querySelector('#df-3a7e45ac-100d-4621-9e7d-21e97e737805 button.colab-df-convert');\n",
              "        buttonEl.style.display =\n",
              "          google.colab.kernel.accessAllowed ? 'block' : 'none';\n",
              "\n",
              "        async function convertToInteractive(key) {\n",
              "          const element = document.querySelector('#df-3a7e45ac-100d-4621-9e7d-21e97e737805');\n",
              "          const dataTable =\n",
              "            await google.colab.kernel.invokeFunction('convertToInteractive',\n",
              "                                                     [key], {});\n",
              "          if (!dataTable) return;\n",
              "\n",
              "          const docLinkHtml = 'Like what you see? Visit the ' +\n",
              "            '<a target=\"_blank\" href=https://colab.research.google.com/notebooks/data_table.ipynb>data table notebook</a>'\n",
              "            + ' to learn more about interactive tables.';\n",
              "          element.innerHTML = '';\n",
              "          dataTable['output_type'] = 'display_data';\n",
              "          await google.colab.output.renderOutput(dataTable, element);\n",
              "          const docLink = document.createElement('div');\n",
              "          docLink.innerHTML = docLinkHtml;\n",
              "          element.appendChild(docLink);\n",
              "        }\n",
              "      </script>\n",
              "    </div>\n",
              "  </div>\n",
              "  "
            ],
            "text/plain": [
              "             id                        title  \\\n",
              "0         862.0                    Toy Story   \n",
              "1        8844.0                      Jumanji   \n",
              "2       15602.0             Grumpier Old Men   \n",
              "3       31357.0            Waiting to Exhale   \n",
              "4       11862.0  Father of the Bride Part II   \n",
              "...         ...                          ...   \n",
              "33526   32164.0                   Divergence   \n",
              "33527   72074.0                     Murderer   \n",
              "33528   52441.0                Parallel Life   \n",
              "33529  257568.0                Days of Wrath   \n",
              "33530   74639.0                  Overheard 2   \n",
              "\n",
              "                                                 tagline release_date  \\\n",
              "0                                                    NaN   1995-10-30   \n",
              "1              Roll the dice and unleash the excitement!   1995-12-15   \n",
              "2      Still Yelling. Still Fighting. Still Ready for...   1995-12-22   \n",
              "3      Friends are the people who let you be yourself...   1995-12-22   \n",
              "4      Just When His World Is Back To Normal... He's ...   1995-02-10   \n",
              "...                                                  ...          ...   \n",
              "33526                                                NaN   2005-01-01   \n",
              "33527                                                NaN   2009-07-09   \n",
              "33528                                                NaN   2010-02-18   \n",
              "33529                                                NaN   2013-10-30   \n",
              "33530                                                NaN   2011-08-18   \n",
              "\n",
              "                                     genres           belongs_to_collection  \\\n",
              "0                   Animation|Comedy|Family            Toy Story Collection   \n",
              "1                  Adventure|Fantasy|Family                             NaN   \n",
              "2                            Romance|Comedy       Grumpy Old Men Collection   \n",
              "3                      Comedy|Drama|Romance                             NaN   \n",
              "4                                    Comedy  Father of the Bride Collection   \n",
              "...                                     ...                             ...   \n",
              "33526               Action|Thriller|Foreign                             NaN   \n",
              "33527  Drama|Thriller|Crime|Mystery|Foreign                             NaN   \n",
              "33528         Action|Thriller|Drama|Mystery                             NaN   \n",
              "33529                 Action|Drama|Thriller                             NaN   \n",
              "33530                 Action|Drama|Thriller            Overheard Collection   \n",
              "\n",
              "      original_language  budget_musd  revenue_musd  production_companies  \\\n",
              "0                    en     0.000030    373.554033                   NaN   \n",
              "1                    en     0.000065    262.797249                   NaN   \n",
              "2                    en          NaN           NaN                   NaN   \n",
              "3                    en     0.000016     81.452156                   NaN   \n",
              "4                    en          NaN     76.578911                   NaN   \n",
              "...                 ...          ...           ...                   ...   \n",
              "33526                cn          NaN           NaN                   NaN   \n",
              "33527                cn          NaN           NaN                   NaN   \n",
              "33528                ko          NaN           NaN                   NaN   \n",
              "33529                en          NaN           NaN                   NaN   \n",
              "33530                cn     0.000008           NaN                   NaN   \n",
              "\n",
              "           production_countries  vote_count  vote_average  popularity  \\\n",
              "0      United States of America      5415.0           7.7   21.946943   \n",
              "1      United States of America      2413.0           6.9   17.015539   \n",
              "2      United States of America        92.0           6.5   11.712900   \n",
              "3      United States of America        34.0           6.1    3.859495   \n",
              "4      United States of America       173.0           5.7    8.387519   \n",
              "...                         ...         ...           ...         ...   \n",
              "33526                 Hong Kong        11.0           6.8    0.893082   \n",
              "33527                 Hong Kong         8.0           6.3    1.206100   \n",
              "33528               South Korea         9.0           6.3    0.364937   \n",
              "33529               South Korea         7.0           6.6    1.105183   \n",
              "33530                 Hong Kong        22.0           5.9    1.172189   \n",
              "\n",
              "       runtime                                           overview  \\\n",
              "0         81.0  Led by Woody, Andy's toys live happily in his ...   \n",
              "1        104.0  When siblings Judy and Peter discover an encha...   \n",
              "2        101.0  A family wedding reignites the ancient feud be...   \n",
              "3        127.0  Cheated on, mistreated and stepped on, the wom...   \n",
              "4        106.0  Just when George Banks has recovered from his ...   \n",
              "...        ...                                                ...   \n",
              "33526    101.0  A cop, a lawyer, and an assassin cross paths a...   \n",
              "33527    120.0  A Hong Kong-set mystery centered on a detectiv...   \n",
              "33528    110.0  Kin Suk-hyun is Korea’s youngest appointed cri...   \n",
              "33529    120.0  Back in his high school days, Joon-Seok (Joo S...   \n",
              "33530    121.0  Manson Law, a celebrated stockbroker in Hong K...   \n",
              "\n",
              "            spoken_languages                       poster_path  \n",
              "0                    English  /rhIRbceoE9lR4veEXuwCC2wARtG.jpg  \n",
              "1           English|Français  /vzmL6fP7aPKNKPRTFnZmiUfciyV.jpg  \n",
              "2                    English  /6ksm1sjKMFLbO7UY2i6G1ju9SML.jpg  \n",
              "3                    English  /16XOMpEaLWkrcPqSQqhTmeJuqQl.jpg  \n",
              "4                    English  /e64sOI48hQXyru7naBFyssKFxVd.jpg  \n",
              "...                      ...                               ...  \n",
              "33526  广州话 / 廣州話|English|普通话  /fBVVzwewWQgV0LUhowH3QuLiTDq.jpg  \n",
              "33527          广州话 / 廣州話|普通话  /lLjhtN75KUyJqujfppdb59wqlo1.jpg  \n",
              "33528                한국어/조선말  /61wni7gg3BK65yJ8UaqFjpHS6Vv.jpg  \n",
              "33529                한국어/조선말  /ji48fwcYraM6ICVLGbi9uHrSWpO.jpg  \n",
              "33530              广州话 / 廣州話  /lRvjMJtIPxOOzUIot6jnXh4Mc4q.jpg  \n",
              "\n",
              "[33531 rows x 18 columns]"
            ]
          },
          "execution_count": 160,
          "metadata": {},
          "output_type": "execute_result"
        }
      ],
      "source": [
        "df"
      ]
    },
    {
      "cell_type": "code",
      "execution_count": null,
      "metadata": {
        "id": "q0KZ-7o80CgL"
      },
      "outputs": [],
      "source": []
    }
  ],
  "metadata": {
    "colab": {
      "provenance": []
    },
    "kernelspec": {
      "display_name": "Python 3",
      "name": "python3"
    },
    "language_info": {
      "name": "python"
    }
  },
  "nbformat": 4,
  "nbformat_minor": 0
}
